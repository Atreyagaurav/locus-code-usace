{
 "cells": [
  {
   "cell_type": "markdown",
   "metadata": {},
   "source": [
    "# North Branch of the Potomac Watershed\n",
    "\n",
    "by: John Kucharksi | correspondance: johnkucharski@gmail.com | date: 06 May 2021 \n",
    "\n",
    "The notebook analyzes the spatial patterns of extreme precipitation events in the North Branch of the Potomac Watershed, using the Livneh daily precipitation data and USGS 8 digit hydrologic unit code watershed boundary shapefile.$^{1, 2}$ </br>\n",
    "  \n",
    "References: <br>\n",
    "$^{1}$ Livneh B., E.A. Rosenberg, C. Lin, B. Nijssen, V. Mishra, K.M. Andreadis, E.P. Maurer, and D.P. Lettenmaier, 2013: A Long-Term Hydrologically Based Dataset of Land Surface Fluxes and States for the Conterminous United States: Update and Extensions, Journal of Climate, 26, 9384–9392. <br>\n",
    "$^{2}$ U.S. Geological Survey, 2020, National Waterboundary Dataset for 2 digit hydrologic Unit (HU) 02 (mid-atlantic), accessed April 11, 2020 at URL http://prd-tnm.s3-website-us-west-2.amazonaws.com/?prefix=StagedProducts/Hydrography/WBD/HU2/Shape/. ** \n",
    "\n",
    "**note: more information on the USGS National Hydrography program and products including the water boundary shape files, used in this analysis can be found here: https://www.usgs.gov/core-science-systems/ngp/national-hydrography/access-national-hydrography-products. "
   ]
  },
  {
   "cell_type": "markdown",
   "metadata": {},
   "source": [
    "## Data Processing\n",
    "The first half of this notebook, processes the raw livneh data."
   ]
  },
  {
   "cell_type": "code",
   "execution_count": null,
   "metadata": {},
   "outputs": [],
   "source": [
    "\n",
    "projpath: str = '/Users/johnkucharski/Documents/source/locus/'\n",
    "\n",
    "import sys\n",
    "from typing import List, Dict, Tuple\n",
    "sys.path.insert(0, projpath)\n",
    "\n",
    "import numpy as np\n",
    "import pandas as pd\n",
    "import matplotlib.pyplot as plt\n",
    "\n",
    "import src.cluster as cluster\n",
    "import src.livneh as livneh\n",
    "from src.waterboundary import Waterboundary\n"
   ]
  },
  {
   "cell_type": "markdown",
   "metadata": {},
   "source": [
    "### Folder Structure\n",
    "The data for this analysis are stored in the following directory structure:\n",
    "\n",
    "data/ </br>\n",
    "&emsp;  |- input/ </br>\n",
    "&emsp;  |&emsp; |- livneh/ </br>\n",
    "&emsp;  |&emsp; |&emsp; '- prec.YEAR.nc (YEAR = 4-digit year [1915-2011])</br>\n",
    "&emsp;  |&emsp; '- waterboundary/  </br>\n",
    "&emsp;  |&emsp;  &emsp; '- WBD_XX_HU2_Shape/Shape/ (XX = 2-digit USGS HUC code) </br>\n",
    "&emsp;  |&emsp;  &emsp; &emsp;  |- WBDHUZZ.shp (ZZ = 1 or 2-digit HUC code size) </br>\n",
    "&emsp;  |&emsp;  &emsp; &emsp;  '- other related files (.shx, .cpg, .dbf, .sbn, etc.) </br>\n",
    "&emsp;  '- output/ </br>\n",
    "&emsp;   &emsp; '- northbranch ** </br>\n",
    "&emsp;   &emsp;  &emsp; |- ams/ </br>\n",
    "&emsp;   &emsp;  &emsp; |&emsp;  '- Ndy_events.csv (N = duration in days) </br>\n",
    "&emsp;   &emsp;  &emsp; |&emsp;  '- Ndy_grids.csv  (N = duration in days) </br>\n",
    "&emsp;   &emsp;  &emsp; '- pds/ </br>\n",
    "&emsp;   &emsp;  &emsp; |&emsp;  '- Ndy_events.csv (N = duration in days) </br>\n",
    "&emsp;   &emsp;  &emsp; |&emsp;  '- Ndy_grids.csv (N = duration in days) </br>\n",
    "&emsp;   &emsp;  &emsp; '- prec.YEAR.csv (YEAR = 4-digit year [1915, 2011])\n",
    "\n",
    "**note: to generalize this the folder structure between the outputs and the northbranch folder (a HUC08) should include folders with the HUC 2, 4, and 6 names.\n",
    "\n",
    "\n"
   ]
  },
  {
   "cell_type": "markdown",
   "metadata": {},
   "source": [
    "### Inputs"
   ]
  },
  {
   "cell_type": "code",
   "execution_count": null,
   "metadata": {},
   "outputs": [],
   "source": [
    "inputs: str = f'{projpath}data/input/'"
   ]
  },
  {
   "cell_type": "markdown",
   "metadata": {},
   "source": [
    "The data being analyzed is daily gridded precipitation depths recorded from 1915 through 2011 in the North Branch of the Potomac Watershed in Western Maryland, USA. \n",
    "The data for each day contains the preciptation depth in all 130 livneh grid cells (1/16th of a degree of latitude/longitude) located within or intersected by the North Branch of the Potomac 8 digit Hydrologic Unit Code (HUC08) boundary."
   ]
  },
  {
   "cell_type": "markdown",
   "metadata": {},
   "source": [
    "### Outputs"
   ]
  },
  {
   "cell_type": "code",
   "execution_count": null,
   "metadata": {},
   "outputs": [],
   "source": [
    "\n",
    "output: str = f'{projpath}data/output/northbranch/'"
   ]
  },
  {
   "cell_type": "markdown",
   "metadata": {},
   "source": [
    "The output data from this notebook are livneh files that collectively contain the partial duration series (PDS) from a peak over threshold analysis, that yields of days in the livneh record in which the rainfall exceeds the minimum annual maximum basin average value."
   ]
  },
  {
   "cell_type": "code",
   "execution_count": null,
   "metadata": {},
   "outputs": [],
   "source": [
    "huc_code: str = '02070002'\n",
    "fpath: str = f'{inputs}waterboundary/'\n",
    "wbd = Waterboundary(path=fpath, code=huc_code).import_waterboundary()\n",
    "wbd_area = wbd.iloc[0].AreaSqKm\n",
    "wbd.head()"
   ]
  },
  {
   "cell_type": "markdown",
   "metadata": {},
   "source": [
    "Later the livneh grids are converted to polygons and clipped to the \"wbd\" watershed shape, this is a slow process. To speed it up first the netCDF livneh grids are clipped to a boundary box, created in the next cell."
   ]
  },
  {
   "cell_type": "code",
   "execution_count": null,
   "metadata": {},
   "outputs": [],
   "source": [
    "buffer: float = 1/32\n",
    "# bbox = [west, south, east, north] coordinates\n",
    "bbox: List[float] = list(wbd.iloc[0].geometry.bounds)\n",
    "bbox[0] = bbox[0] - buffer\n",
    "bbox[1] = bbox[1] - buffer\n",
    "bbox[2] = bbox[2] + buffer\n",
    "bbox[3] = bbox[3] + buffer"
   ]
  },
  {
   "cell_type": "markdown",
   "metadata": {},
   "source": [
    "Gathers the list of input .NetCDF file path (as strings) to process, and the output paths (as strings) for the processed .csv files."
   ]
  },
  {
   "cell_type": "code",
   "execution_count": null,
   "metadata": {},
   "outputs": [],
   "source": [
    "srt_paths: List[str] = livneh.inputfilepaths(f'{inputs}', vars=['prec'], yrs=[i for i in range(1915, 2012)])\n",
    "end_paths: List[str] = livneh.outputfilepaths(output, srt_paths)"
   ]
  },
  {
   "cell_type": "code",
   "execution_count": null,
   "metadata": {},
   "outputs": [],
   "source": [
    "grids = livneh.ids(srt_paths[0], boundarybox=bbox, wbd=wbd)\n",
    "print(grids.shape)\n",
    "grids.head()"
   ]
  },
  {
   "cell_type": "code",
   "execution_count": null,
   "metadata": {},
   "outputs": [],
   "source": [
    "ids = grids.drop(columns=['area_km2', 'area_weight'])"
   ]
  },
  {
   "cell_type": "markdown",
   "metadata": {},
   "source": [
    "Processes the the livneh precipitation .NetCDF files returning processed .csv files, for the area of interest."
   ]
  },
  {
   "cell_type": "code",
   "execution_count": null,
   "metadata": {},
   "outputs": [],
   "source": [
    "# print_msg = livneh.process_files(srt_paths, end_paths, bbox, wbd)\n",
    "# print(f'processed: {print_msg}')"
   ]
  },
  {
   "cell_type": "markdown",
   "metadata": {},
   "source": [
    "Takes the processed .csv livneh files for the area of interest, and returns partial duration (PDS) and annual maximum series (AMS) for the specified list of durations in days."
   ]
  },
  {
   "cell_type": "code",
   "execution_count": null,
   "metadata": {},
   "outputs": [],
   "source": [
    "# print_msg = livneh.compute_series(end_paths, [1, 2, 3])\n",
    "# print(print_msg)"
   ]
  },
  {
   "cell_type": "code",
   "execution_count": null,
   "metadata": {},
   "outputs": [],
   "source": [
    "df = pd.read_csv(f'{output}ams/1dy_grids.csv', index_col=[0])\n",
    "print(df.shape)\n",
    "df.head()"
   ]
  },
  {
   "cell_type": "code",
   "execution_count": null,
   "metadata": {},
   "outputs": [],
   "source": [
    "df_clustered = cluster.storm_centers(df) \n",
    "print(df_clustered.shape)\n",
    "df_clustered.head()"
   ]
  },
  {
   "cell_type": "code",
   "execution_count": null,
   "metadata": {},
   "outputs": [],
   "source": [
    "cluster_means = cluster.cluster_means(df_clustered, ids)\n",
    "print(cluster_means.shape)\n",
    "cluster_means.head()"
   ]
  },
  {
   "cell_type": "code",
   "execution_count": null,
   "metadata": {},
   "outputs": [],
   "source": [
    "\n",
    "nclusters = sum([1 if type(i) is int else 0 for i in cluster_means.columns.values])\n",
    "fig, axs = plt.subplots(nrows=nclusters, ncols=2, figsize=(10, 20), sharex=True, sharey=True)\n",
    "for c in range(2):\n",
    "    for i in range(nclusters):\n",
    "        cluster_means.plot(ax=axs[i, c], column=i, vmin=20, vmax=110, legend = True) if c==0 else cluster_means.plot(ax=axs[i, c], column=i, legend=True)\n",
    "        axs[i, c].set_title(f'cluster: {i}')"
   ]
  },
  {
   "cell_type": "code",
   "execution_count": null,
   "metadata": {},
   "outputs": [],
   "source": [
    "norm = cluster.normalize_cluster(cluster_means, grids)\n",
    "norm.head()"
   ]
  }
 ],
 "metadata": {
  "interpreter": {
   "hash": "6cfa4a4091a217c455cf01c97154c50fddce3f2d5246ba776b1317ea126d2a30"
  },
  "kernelspec": {
   "display_name": "Python 3.9.2 64-bit ('locus': conda)",
   "name": "python3"
  },
  "language_info": {
   "codemirror_mode": {
    "name": "ipython",
    "version": 3
   },
   "file_extension": ".py",
   "mimetype": "text/x-python",
   "name": "python",
   "nbconvert_exporter": "python",
   "pygments_lexer": "ipython3",
   "version": "3.9.2"
  },
  "orig_nbformat": 4
 },
 "nbformat": 4,
 "nbformat_minor": 2
}
